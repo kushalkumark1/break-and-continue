{
 "cells": [
  {
   "cell_type": "code",
   "execution_count": 5,
   "id": "cc57f1fb",
   "metadata": {},
   "outputs": [
    {
     "name": "stdout",
     "output_type": "stream",
     "text": [
      "0\n"
     ]
    }
   ],
   "source": [
    "x=0\n",
    "\n",
    "while x<5:\n",
    "    if x==1:\n",
    "        break\n",
    "    print(x)\n",
    "    x=x+1"
   ]
  },
  {
   "cell_type": "code",
   "execution_count": 3,
   "id": "00dfa728",
   "metadata": {},
   "outputs": [
    {
     "name": "stdout",
     "output_type": "stream",
     "text": [
      "0\n"
     ]
    }
   ],
   "source": [
    "x=0\n",
    "\n",
    "while x<5:\n",
    "    print(x)\n",
    "    if x==0:\n",
    "        break\n",
    "    x=x+1"
   ]
  },
  {
   "cell_type": "code",
   "execution_count": 6,
   "id": "e7d72947",
   "metadata": {},
   "outputs": [],
   "source": [
    "#try to loopfrom 0 to 10 come out at 5"
   ]
  },
  {
   "cell_type": "code",
   "execution_count": 8,
   "id": "84acae39",
   "metadata": {},
   "outputs": [
    {
     "name": "stdout",
     "output_type": "stream",
     "text": [
      "0\n",
      "1\n",
      "2\n",
      "3\n",
      "4\n"
     ]
    }
   ],
   "source": [
    "x=0\n",
    "\n",
    "while x<11:\n",
    "    if x==5:\n",
    "        break\n",
    "    print(x)\n",
    "    x=x+1"
   ]
  },
  {
   "cell_type": "code",
   "execution_count": 9,
   "id": "cdf18f5c",
   "metadata": {},
   "outputs": [
    {
     "name": "stdout",
     "output_type": "stream",
     "text": [
      "hi\n",
      "bye\n",
      "4\n"
     ]
    }
   ],
   "source": [
    "x=0\n",
    "while x<6:\n",
    "    if x==4:\n",
    "        print(\"hi\")\n",
    "        print(\"bye\")\n",
    "        print(x)\n",
    "    x=x+1"
   ]
  },
  {
   "cell_type": "code",
   "execution_count": 4,
   "id": "626f22d5",
   "metadata": {},
   "outputs": [
    {
     "name": "stdout",
     "output_type": "stream",
     "text": [
      "hi\n",
      "bye\n",
      "hi\n",
      "bye\n",
      "hi\n",
      "bye\n"
     ]
    }
   ],
   "source": [
    "x=0\n",
    "while x<6:\n",
    "        print(\"hi\")\n",
    "        print(\"bye\")\n",
    "        x=x+1\n",
    "        if x==4:\n",
    "            continue\n",
    "            print(x)\n",
    "        x=x+1"
   ]
  },
  {
   "cell_type": "code",
   "execution_count": 5,
   "id": "f189846c",
   "metadata": {},
   "outputs": [],
   "source": [
    "#try to loop from 1 t0 4"
   ]
  },
  {
   "cell_type": "code",
   "execution_count": 5,
   "id": "656ac2e9",
   "metadata": {},
   "outputs": [
    {
     "name": "stdout",
     "output_type": "stream",
     "text": [
      "hii\n",
      "kushal\n",
      "1\n",
      "hii\n",
      "kushal\n",
      "2\n",
      "hii\n",
      "kushal\n",
      "hii\n",
      "kushal\n",
      "4\n"
     ]
    }
   ],
   "source": [
    "x=0\n",
    "while x<4:\n",
    "    print(\"hii\")\n",
    "    print(\"kushal\")\n",
    "    x=x+1\n",
    "    if x==3:\n",
    "        continue\n",
    "    print(x)\n",
    "      "
   ]
  },
  {
   "cell_type": "code",
   "execution_count": 4,
   "id": "d7d03f80",
   "metadata": {},
   "outputs": [
    {
     "name": "stdout",
     "output_type": "stream",
     "text": [
      "1\n",
      "2\n",
      "3\n",
      "5\n"
     ]
    }
   ],
   "source": [
    "x=0\n",
    "while x<5:\n",
    "    x=x+1\n",
    "    if x==4:\n",
    "        continue\n",
    "    print(x)\n",
    "    \n",
    "      "
   ]
  },
  {
   "cell_type": "code",
   "execution_count": 2,
   "id": "4e301732",
   "metadata": {},
   "outputs": [
    {
     "name": "stdout",
     "output_type": "stream",
     "text": [
      "* * *\n",
      "*   *\n",
      "* * *\n",
      "*   *\n"
     ]
    }
   ],
   "source": [
    "x=0\n",
    "while x<4:\n",
    "    if x==0:\n",
    "        print(\"* * *\")\n",
    "    elif x==1:\n",
    "        print(\"*   *\")\n",
    "    elif x==2:\n",
    "        print(\"* * *\")\n",
    "    else:\n",
    "        print(\"*   *\")\n",
    "    x=x+1"
   ]
  },
  {
   "cell_type": "code",
   "execution_count": 5,
   "id": "3453d4ed",
   "metadata": {},
   "outputs": [
    {
     "name": "stdout",
     "output_type": "stream",
     "text": [
      "* * *       ********    *********\n",
      "*   *           *           **\n",
      "* * *           *         ****\n",
      "*   *           *       *********\n"
     ]
    }
   ],
   "source": [
    "x=0\n",
    "while x<4:\n",
    "    if x==0:\n",
    "        print(\"* * *       ********    *********\")\n",
    "    elif x==1:\n",
    "        print(\"*   *           *           **\")\n",
    "    elif x==2:\n",
    "        print(\"* * *           *         ****\")\n",
    "    else:\n",
    "        print(\"*   *           *       *********\")\n",
    "    x=x+1"
   ]
  },
  {
   "cell_type": "code",
   "execution_count": 8,
   "id": "90a19d64",
   "metadata": {},
   "outputs": [
    {
     "name": "stdout",
     "output_type": "stream",
     "text": [
      "* * *\n",
      "*   *\n",
      "* * *\n",
      "*   *\n",
      "* * *\n"
     ]
    }
   ],
   "source": [
    "x=0\n",
    "while x<5:\n",
    "    if x==0:\n",
    "        print(\"* * *\")\n",
    "    elif x==1:\n",
    "        print(\"*   *\")\n",
    "    elif x==2:\n",
    "        print(\"* * *\")\n",
    "    elif x==3:\n",
    "        print(\"*   *\")\n",
    "    else:\n",
    "        print(\"* * *\")\n",
    "        \n",
    "    x=x+1"
   ]
  },
  {
   "cell_type": "code",
   "execution_count": 10,
   "id": "74344993",
   "metadata": {},
   "outputs": [
    {
     "name": "stdout",
     "output_type": "stream",
     "text": [
      "********\n",
      "*       \n",
      "*       \n",
      "********\n"
     ]
    }
   ],
   "source": [
    "x=0\n",
    "while x<4:\n",
    "    if x==0:\n",
    "        print(\"********\")\n",
    "    elif x==1:\n",
    "        print(\"*       \")\n",
    "    elif x==2:\n",
    "        print(\"*       \")\n",
    "    else:\n",
    "        print(\"********\")\n",
    "    x=x+1"
   ]
  },
  {
   "cell_type": "code",
   "execution_count": 14,
   "id": "c727d3ef",
   "metadata": {},
   "outputs": [
    {
     "name": "stdout",
     "output_type": "stream",
     "text": [
      "******  \n",
      "*      *\n",
      "*      *\n",
      "******  \n"
     ]
    }
   ],
   "source": [
    "x=0\n",
    "while x<4:\n",
    "    if x==0:\n",
    "        print(\"******  \")\n",
    "    elif x==1:\n",
    "        print(\"*      *\")\n",
    "    elif x==2:\n",
    "        print(\"*      *\")\n",
    "    else:\n",
    "        print(\"******  \")\n",
    "    x=x+1"
   ]
  },
  {
   "cell_type": "code",
   "execution_count": 18,
   "id": "deae524c",
   "metadata": {},
   "outputs": [
    {
     "name": "stdout",
     "output_type": "stream",
     "text": [
      "*******\n",
      "*   \n",
      "*******\n",
      "*   \n",
      "*******\n"
     ]
    }
   ],
   "source": [
    "x=0\n",
    "while x<5:\n",
    "    if x==0:\n",
    "        print(\"*******\")\n",
    "    elif x==1:\n",
    "        print(\"*   \")\n",
    "    elif x==2:\n",
    "        print(\"*******\")\n",
    "    elif x==3:\n",
    "        print(\"*   \")\n",
    "    else:\n",
    "        print(\"*******\")\n",
    "    x=x+1"
   ]
  },
  {
   "cell_type": "code",
   "execution_count": 19,
   "id": "c3c05fc1",
   "metadata": {},
   "outputs": [
    {
     "name": "stdout",
     "output_type": "stream",
     "text": [
      "*******\n",
      "*   \n",
      "*******\n",
      "*   \n",
      "*     \n"
     ]
    }
   ],
   "source": [
    "x=0\n",
    "while x<5:\n",
    "    if x==0:\n",
    "        print(\"*******\")\n",
    "    elif x==1:\n",
    "        print(\"*   \")\n",
    "    elif x==2:\n",
    "        print(\"*******\")\n",
    "    elif x==3:\n",
    "        print(\"*   \")\n",
    "    else:\n",
    "        print(\"*     \")\n",
    "    x=x+1"
   ]
  },
  {
   "cell_type": "code",
   "execution_count": 3,
   "id": "04592b12",
   "metadata": {},
   "outputs": [
    {
     "name": "stdout",
     "output_type": "stream",
     "text": [
      "*********\n",
      "*       \n",
      "*   *****\n",
      "*     ***\n",
      "*********\n"
     ]
    }
   ],
   "source": [
    "x=0\n",
    "while x<5:\n",
    "    if x==0:\n",
    "        print(\"*********\")\n",
    "    elif x==1:\n",
    "        print(\"*       \")\n",
    "    elif x==2:\n",
    "        print(\"*   *****\")\n",
    "    elif x==3:\n",
    "        print(\"*     ***\")\n",
    "    else:\n",
    "        print(\"*********\")\n",
    "    x=x+1"
   ]
  },
  {
   "cell_type": "code",
   "execution_count": 1,
   "id": "f232118e",
   "metadata": {},
   "outputs": [
    {
     "name": "stdout",
     "output_type": "stream",
     "text": [
      "***   ***\n",
      "***   ***\n",
      "*********\n",
      "***   ***\n",
      "***   ***\n"
     ]
    }
   ],
   "source": [
    "x=0\n",
    "while x<5:\n",
    "    if x==0:\n",
    "        print(\"***   ***\")\n",
    "    elif x==1:\n",
    "        print(\"***   ***\")\n",
    "    elif x==2:\n",
    "        print(\"*********\")\n",
    "    elif x==3:\n",
    "        print(\"***   ***\")\n",
    "    else:\n",
    "        print(\"***   ***\")\n",
    "    x=x+1"
   ]
  },
  {
   "cell_type": "code",
   "execution_count": 2,
   "id": "553837ee",
   "metadata": {},
   "outputs": [
    {
     "name": "stdout",
     "output_type": "stream",
     "text": [
      "*********\n",
      "     *   \n",
      "     *   \n",
      "     *   \n",
      "*********\n"
     ]
    }
   ],
   "source": [
    "x=0\n",
    "while x<5:\n",
    "    if x==0:\n",
    "        print(\"*********\")\n",
    "    elif x==1:\n",
    "        print(\"     *   \")\n",
    "    elif x==2:\n",
    "        print(\"     *   \")\n",
    "    elif x==3:\n",
    "        print(\"     *   \")\n",
    "    else:\n",
    "        print(\"*********\")\n",
    "    x=x+1"
   ]
  },
  {
   "cell_type": "code",
   "execution_count": 1,
   "id": "3badf79d",
   "metadata": {},
   "outputs": [
    {
     "name": "stdout",
     "output_type": "stream",
     "text": [
      "**********\n",
      "       ***\n",
      "       ***\n",
      "***    ***\n",
      "**********\n"
     ]
    }
   ],
   "source": [
    "x=0\n",
    "while x<5:\n",
    "    if x==0:\n",
    "        print(\"**********\")\n",
    "    elif x==1:\n",
    "        print(\"       ***\")\n",
    "    elif x==2:\n",
    "        print(\"       ***\")\n",
    "    elif x==3:\n",
    "        print(\"***    ***\")\n",
    "    else:\n",
    "        print(\"**********\")\n",
    "    x=x+1"
   ]
  },
  {
   "cell_type": "code",
   "execution_count": 6,
   "id": "b1e778ae",
   "metadata": {},
   "outputs": [
    {
     "name": "stdout",
     "output_type": "stream",
     "text": [
      "****     *****\n",
      "***     ***\n",
      "********\n",
      "***     ***\n",
      "****     *****\n"
     ]
    }
   ],
   "source": [
    "x=0\n",
    "while x<5:\n",
    "    if x==0:\n",
    "        print(\"****     *****\")\n",
    "    elif x==1:\n",
    "        print(\"***     ***\")\n",
    "    elif x==2:\n",
    "        print(\"********\")\n",
    "    elif x==3:\n",
    "        print(\"***     ***\")\n",
    "    else:\n",
    "        print(\"****     *****\")\n",
    "    x=x+1"
   ]
  },
  {
   "cell_type": "code",
   "execution_count": 8,
   "id": "e9f3f84f",
   "metadata": {},
   "outputs": [
    {
     "name": "stdout",
     "output_type": "stream",
     "text": [
      "***\n",
      "***\n",
      "***\n",
      "***\n",
      "*****************\n",
      "*****************\n"
     ]
    }
   ],
   "source": [
    "x=0\n",
    "while x<6:\n",
    "    if x==0:\n",
    "        print(\"***\")\n",
    "    elif x==1:\n",
    "        print(\"***\")\n",
    "    elif x==2:\n",
    "        print(\"***\")\n",
    "    elif x==3:\n",
    "        print(\"***\")\n",
    "    elif x==4:\n",
    "        print(\"*****************\")\n",
    "    else:\n",
    "        print(\"*****************\")\n",
    "    x=x+1"
   ]
  },
  {
   "cell_type": "code",
   "execution_count": 5,
   "id": "a5c24471",
   "metadata": {},
   "outputs": [
    {
     "name": "stdout",
     "output_type": "stream",
     "text": [
      "****         *****\n",
      "***   **  **  ***\n",
      "***   ** **   ***\n",
      "***    ***    ***\n",
      "***     **    ****\n"
     ]
    }
   ],
   "source": [
    "x=0\n",
    "while x<5:\n",
    "    if x==0:\n",
    "        print(\"****         *****\")\n",
    "    elif x==1:\n",
    "        print(\"***   **  **  ***\")\n",
    "    elif x==2:\n",
    "        print(\"***   ** **   ***\")\n",
    "    elif x==3:\n",
    "        print(\"***    ***    ***\")\n",
    "    else:\n",
    "        print(\"***     **    ****\")\n",
    "    x=x+1"
   ]
  },
  {
   "cell_type": "code",
   "execution_count": 6,
   "id": "247fa982",
   "metadata": {},
   "outputs": [
    {
     "name": "stdout",
     "output_type": "stream",
     "text": [
      "****          ****\n",
      "***  **       ****\n",
      "***     ***   ****\n",
      "***       *** ****\n",
      "***         ** ***\n"
     ]
    }
   ],
   "source": [
    "x=0\n",
    "while x<5:\n",
    "    if x==0:\n",
    "        print(\"****          ****\")\n",
    "    elif x==1:\n",
    "        print(\"***  **       ****\")\n",
    "    elif x==2:\n",
    "        print(\"***     ***   ****\")\n",
    "    elif x==3:\n",
    "        print(\"***       *** ****\")\n",
    "    else:\n",
    "        print(\"***         ** ***\")\n",
    "    x=x+1"
   ]
  },
  {
   "cell_type": "code",
   "execution_count": 10,
   "id": "0b90e712",
   "metadata": {},
   "outputs": [
    {
     "name": "stdout",
     "output_type": "stream",
     "text": [
      "  ********  \n",
      "**         **\n",
      "**         **\n",
      "**         **\n",
      "  ********  \n"
     ]
    }
   ],
   "source": [
    "x=0\n",
    "while x<5:\n",
    "    if x==0:\n",
    "        print(\"  ********  \")\n",
    "    elif x==1:\n",
    "        print(\"**         **\")\n",
    "    elif x==2:\n",
    "        print(\"**         **\")\n",
    "    elif x==3:\n",
    "        print(\"**         **\")\n",
    "    else:\n",
    "        print(\"  ********  \")\n",
    "    x=x+1"
   ]
  },
  {
   "cell_type": "code",
   "execution_count": 11,
   "id": "ec6e000c",
   "metadata": {},
   "outputs": [
    {
     "name": "stdout",
     "output_type": "stream",
     "text": [
      "********** \n",
      "**   ***** \n",
      "**         \n",
      "**         \n"
     ]
    }
   ],
   "source": [
    "x=0\n",
    "while x<4:\n",
    "    if x==0:\n",
    "        print(\"********** \")\n",
    "    elif x==1:\n",
    "        print(\"**   ***** \")\n",
    "    elif x==2:\n",
    "        print(\"**         \")\n",
    "    else:\n",
    "        print(\"**         \")\n",
    "    x=x+1"
   ]
  },
  {
   "cell_type": "code",
   "execution_count": 16,
   "id": "62109b2f",
   "metadata": {},
   "outputs": [
    {
     "name": "stdout",
     "output_type": "stream",
     "text": [
      " ******** \n",
      "**   **  **\n",
      "**    **  **\n",
      "**      * **\n",
      " ********  \n",
      "          **\n"
     ]
    }
   ],
   "source": [
    "x=0\n",
    "while x<6:\n",
    "    if x==0:\n",
    "        print(\" ******** \")\n",
    "    elif x==1:\n",
    "        print(\"**   **  **\")\n",
    "    elif x==2:\n",
    "        print(\"**    **  **\")\n",
    "    elif x==3:\n",
    "        print(\"**      * **\")\n",
    "    elif x==4:\n",
    "        print(\" ********  \")\n",
    "    else:\n",
    "        print(\"          **\")\n",
    "    x=x+1\n",
    "        "
   ]
  },
  {
   "cell_type": "code",
   "execution_count": 37,
   "id": "755cb721",
   "metadata": {},
   "outputs": [
    {
     "name": "stdout",
     "output_type": "stream",
     "text": [
      "**********\n",
      "**     ***\n",
      "**********\n",
      "**     ****\n",
      "**      ******\n"
     ]
    }
   ],
   "source": [
    "x=0\n",
    "while x<5:\n",
    "    if x==0:\n",
    "        print(\"**********\")\n",
    "    elif x==1:\n",
    "        print(\"**     ***\")\n",
    "    elif x==2:\n",
    "        print(\"**********\")\n",
    "    elif x==3:\n",
    "        print(\"**     ****\")\n",
    "    else:\n",
    "        print(\"**      ******\")\n",
    "    x=x+1"
   ]
  },
  {
   "cell_type": "code",
   "execution_count": 21,
   "id": "12fc9a65",
   "metadata": {},
   "outputs": [
    {
     "name": "stdout",
     "output_type": "stream",
     "text": [
      "***********\n",
      "****        \n",
      "     ***\n",
      "        ****   \n",
      "************** \n"
     ]
    }
   ],
   "source": [
    "x=0\n",
    "while x<5:\n",
    "    if x==0:\n",
    "        print(\"***********\")\n",
    "    elif x==1:\n",
    "        print(\"****        \")\n",
    "    elif x==2:\n",
    "        print(\"     ***\")\n",
    "    elif x==3:\n",
    "        print(\"        ****   \")\n",
    "    else:\n",
    "        print(\"************** \")\n",
    "    x=x+1"
   ]
  },
  {
   "cell_type": "code",
   "execution_count": 22,
   "id": "d22f31c7",
   "metadata": {},
   "outputs": [
    {
     "name": "stdout",
     "output_type": "stream",
     "text": [
      "*******\n",
      "   *    \n",
      "   *    \n",
      "   *    \n",
      "   *     \n"
     ]
    }
   ],
   "source": [
    "x=0\n",
    "while x<5:\n",
    "    if x==0:\n",
    "        print(\"*******\")\n",
    "    elif x==1:\n",
    "        print(\"   *    \")\n",
    "    elif x==2:\n",
    "        print(\"   *    \")\n",
    "    elif x==3:\n",
    "        print(\"   *    \")\n",
    "    else:\n",
    "        print(\"   *     \")\n",
    "    x=x+1"
   ]
  },
  {
   "cell_type": "code",
   "execution_count": 23,
   "id": "f4168045",
   "metadata": {},
   "outputs": [
    {
     "name": "stdout",
     "output_type": "stream",
     "text": [
      "**      **\n",
      "**      **\n",
      "**      **\n",
      "**      **\n",
      "**********\n"
     ]
    }
   ],
   "source": [
    "x=0\n",
    "while x<5:\n",
    "    if x==0:\n",
    "        print(\"**      **\")\n",
    "    elif x==1:\n",
    "        print(\"**      **\")\n",
    "    elif x==2:\n",
    "        print(\"**      **\")\n",
    "    elif x==3:\n",
    "        print(\"**      **\")\n",
    "    else:\n",
    "        print(\"**********\")\n",
    "    x=x+1"
   ]
  },
  {
   "cell_type": "code",
   "execution_count": 27,
   "id": "4f0cc7fd",
   "metadata": {},
   "outputs": [
    {
     "name": "stdout",
     "output_type": "stream",
     "text": [
      "**      **\n",
      "**      **\n",
      "**      **\n",
      "**      **\n",
      "    **  \n"
     ]
    }
   ],
   "source": [
    "x=0\n",
    "while x<5:\n",
    "    if x==0:\n",
    "        print(\"**      **\")\n",
    "    elif x==1:\n",
    "        print(\"**      **\")\n",
    "    elif x==2:\n",
    "        print(\"**      **\")\n",
    "    elif x==3:\n",
    "        print(\"**      **\")\n",
    "    else:\n",
    "        print(\"    **  \")\n",
    "    x=x+1"
   ]
  },
  {
   "cell_type": "code",
   "execution_count": 29,
   "id": "4800062f",
   "metadata": {},
   "outputs": [
    {
     "name": "stdout",
     "output_type": "stream",
     "text": [
      "**     *     **\n",
      "**    * *    **\n",
      "**    ***    **\n",
      "**   ** **   **\n",
      "**  *******  **\n"
     ]
    }
   ],
   "source": [
    "x=0\n",
    "while x<5:\n",
    "    if x==0:\n",
    "        print(\"**     *     **\")\n",
    "    elif x==1:\n",
    "        print(\"**    * *    **\")\n",
    "    elif x==2:\n",
    "        print(\"**    ***    **\")\n",
    "    elif x==3:\n",
    "        print(\"**   ** **   **\")\n",
    "    else:\n",
    "        print(\"**  *******  **\")\n",
    "    x=x+1"
   ]
  },
  {
   "cell_type": "code",
   "execution_count": 31,
   "id": "447b88f1",
   "metadata": {},
   "outputs": [
    {
     "name": "stdout",
     "output_type": "stream",
     "text": [
      "*           *\n",
      "   *      *\n",
      "      *   \n",
      "   *      *\n",
      "*            *\n"
     ]
    }
   ],
   "source": [
    "x=0\n",
    "while x<5:\n",
    "    if x==0:\n",
    "        print(\"*           *\")\n",
    "    elif x==1: \n",
    "        print(\"   *      *\")\n",
    "    elif x==2:\n",
    "        print(\"      *   \")\n",
    "    elif x==3:\n",
    "        print(\"   *      *\")\n",
    "    else:\n",
    "        print(\"*            *\")\n",
    "    x=x+1"
   ]
  },
  {
   "cell_type": "code",
   "execution_count": 32,
   "id": "3f3d4109",
   "metadata": {},
   "outputs": [
    {
     "name": "stdout",
     "output_type": "stream",
     "text": [
      "*           *\n",
      "   *      *\n",
      "      *   \n",
      "   *      \n",
      "*            \n"
     ]
    }
   ],
   "source": [
    "x=0\n",
    "while x<5:\n",
    "    if x==0:\n",
    "        print(\"*           *\")\n",
    "    elif x==1: \n",
    "        print(\"   *      *\")\n",
    "    elif x==2:\n",
    "        print(\"      *   \")\n",
    "    elif x==3:\n",
    "        print(\"   *      \")\n",
    "    else:\n",
    "        print(\"*            \")\n",
    "    x=x+1"
   ]
  },
  {
   "cell_type": "code",
   "execution_count": 33,
   "id": "4c90293e",
   "metadata": {},
   "outputs": [
    {
     "name": "stdout",
     "output_type": "stream",
     "text": [
      "**************\n",
      "        ****\n",
      "      ***** \n",
      "   ******      \n",
      "***************            \n"
     ]
    }
   ],
   "source": [
    "x=0\n",
    "while x<5:\n",
    "    if x==0:\n",
    "        print(\"**************\")\n",
    "    elif x==1: \n",
    "        print(\"        ****\")\n",
    "    elif x==2:\n",
    "        print(\"      ***** \")\n",
    "    elif x==3:\n",
    "        print(\"   ******      \")\n",
    "    else:\n",
    "        print(\"***************            \")\n",
    "    x=x+1"
   ]
  },
  {
   "cell_type": "code",
   "execution_count": null,
   "id": "de5b003c",
   "metadata": {},
   "outputs": [],
   "source": []
  }
 ],
 "metadata": {
  "kernelspec": {
   "display_name": "Python 3 (ipykernel)",
   "language": "python",
   "name": "python3"
  },
  "language_info": {
   "codemirror_mode": {
    "name": "ipython",
    "version": 3
   },
   "file_extension": ".py",
   "mimetype": "text/x-python",
   "name": "python",
   "nbconvert_exporter": "python",
   "pygments_lexer": "ipython3",
   "version": "3.9.12"
  }
 },
 "nbformat": 4,
 "nbformat_minor": 5
}
